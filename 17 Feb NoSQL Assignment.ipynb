{
 "cells": [
  {
   "cell_type": "markdown",
   "id": "bace86b6",
   "metadata": {},
   "source": [
    "## 17 Feb NoSQL Assignment"
   ]
  },
  {
   "cell_type": "markdown",
   "id": "06918a9f",
   "metadata": {},
   "source": [
    "#### 1. What is MongoDB? Explain non-relational databases in short. In which scenarios it is preferred to use MongoDB over SQL databases?"
   ]
  },
  {
   "cell_type": "markdown",
   "id": "7e2a2c91",
   "metadata": {},
   "source": [
    "MongoDB is a popular document-oriented NoSQL database that stores data in a flexible, JSON-like format known as BSON (Binary JSON). Unlike traditional SQL databases, which store data in tables with predefined columns and rows, MongoDB stores data in collections of documents, where each document can have a different structure.\n",
    "\n",
    "Non-relational databases, also known as NoSQL databases, are databases that do not use the traditional table-based relational model of SQL databases. Instead, they use flexible data models that allow for more scalable and efficient data storage and retrieval. Non-relational databases are typically used for handling large volumes of unstructured or semi-structured data, such as social media posts, sensor data, or product catalogs.\n",
    "\n",
    "MongoDB is often preferred over SQL databases in scenarios where:\n",
    "\n",
    "Flexible data modeling is needed: Since MongoDB stores data in a flexible, schema-less format, it allows for easy changes to the data model without the need for complex migrations or schema updates.\n",
    "\n",
    "Scalability and performance are important: MongoDB is designed to handle large volumes of data and can be easily scaled horizontally across multiple servers to handle high levels of traffic and data.\n",
    "\n",
    "Real-time data processing is required: MongoDB's flexible data model and efficient querying capabilities make it well-suited for real-time data processing applications.\n",
    "\n",
    "Cloud-based or distributed architecture: MongoDB's architecture is well-suited for cloud-based or distributed deployments, making it a popular choice for modern web applications.\n",
    "\n",
    "Overall, MongoDB is a good choice for applications that require flexible data modeling, scalability, and real-time data processing, particularly in modern cloud-based or distributed architectures. However, SQL databases may still be preferred for applications with well-defined, structured data that require strong data consistency and reliability."
   ]
  },
  {
   "cell_type": "markdown",
   "id": "a17f5a51",
   "metadata": {},
   "source": [
    "#### 2. State and Explain the features of MongoDB.\n",
    "\n",
    "MongoDB is a popular NoSQL document-oriented database that offers a range of features that make it well-suited for modern web applications. Some of the key features of MongoDB include:\n",
    "\n",
    "Flexible Data Model: MongoDB stores data in collections of documents, where each document can have a different structure. This allows for flexible data modeling, making it easier to handle unstructured or semi-structured data.\n",
    "\n",
    "Scalability: MongoDB is designed to handle large volumes of data and can be easily scaled horizontally across multiple servers to handle high levels of traffic and data.\n",
    "\n",
    "High Performance: MongoDB uses memory-mapped files for data storage, which allows for high performance data retrieval and indexing. Additionally, MongoDB supports caching, query optimization, and other features that help to ensure high performance.\n",
    "\n",
    "Replication and High Availability: MongoDB supports automatic replication and failover, which helps to ensure high availability and data redundancy.\n",
    "\n",
    "Querying and Indexing: MongoDB offers a powerful query language that supports a wide range of query types, including range queries, regular expression searches, and more. MongoDB also supports a range of indexing options, including compound indexes, text indexes, and geospatial indexes.\n",
    "\n",
    "Aggregation Framework: MongoDB offers a powerful aggregation framework that allows for complex data analysis and reporting.\n",
    "\n",
    "Map-Reduce: MongoDB supports MapReduce, which allows for distributed computing and parallel processing of large datasets.\n",
    "\n",
    "Document Validation: MongoDB provides a flexible document validation framework that allows for validation of data at the document level.\n",
    "\n",
    "Security: MongoDB offers a range of security features, including authentication, authorization, and encryption to ensure secure data storage and retrieval.\n",
    "\n",
    "Overall, MongoDB is a feature-rich database that offers a flexible data model, scalability, high performance, and a range of advanced features for data analysis and management. These features make it well-suited for modern web applications that require fast and flexible data storage and retrieval.\n"
   ]
  },
  {
   "cell_type": "markdown",
   "id": "fd29b6f0",
   "metadata": {},
   "source": [
    "#### 3. Write a code to connect MongoDB to Python. Also, create a database and a collection in MongoDB."
   ]
  },
  {
   "cell_type": "code",
   "execution_count": 1,
   "id": "c228521d",
   "metadata": {},
   "outputs": [
    {
     "name": "stdout",
     "output_type": "stream",
     "text": [
      "Requirement already satisfied: pymongo in /opt/anaconda3/lib/python3.9/site-packages (4.3.3)\r\n",
      "Requirement already satisfied: dnspython<3.0.0,>=1.16.0 in /opt/anaconda3/lib/python3.9/site-packages (from pymongo) (2.3.0)\r\n"
     ]
    }
   ],
   "source": [
    "!pip install pymongo\n",
    "import pymongo\n",
    "client=pymongo.MongoClient('mongodb://localhost:27017/')\n",
    "db=client.test\n",
    "db=client['Sample']\n",
    "collection=db['Details']"
   ]
  },
  {
   "cell_type": "markdown",
   "id": "1c993d75",
   "metadata": {},
   "source": [
    "#### 4. Using the database and the collection created in question number 3, write a code to insert one record, and insert many records. Use the find() and find_one() methods to print the inserted record."
   ]
  },
  {
   "cell_type": "code",
   "execution_count": 2,
   "id": "78bbbcae",
   "metadata": {},
   "outputs": [
    {
     "name": "stdout",
     "output_type": "stream",
     "text": [
      "{'_id': ObjectId('63efde0d68a0b170891da43c'), 'Name': 'Devendra', 'ID': 11587327, 'Age': 23, 'Course': 'Data Science'}\n",
      "{'_id': ObjectId('63efde0d68a0b170891da43d'), 'mail': 'vs.ndr.dev@gmail.com', 'Name': 'Devendra Reddy', 'College': 'University of North Texas'}\n",
      "{'_id': ObjectId('63efde0d68a0b170891da43e'), 'Name': 'Devendra Reddy', 'Semester': 'Spring-2023', 'Subjects': ['INFO-5505', 'INFO-5810', 'INFO-5737']}\n"
     ]
    }
   ],
   "source": [
    "data={\n",
    "    'Name':'Devendra',\n",
    "    'ID':11587327,\n",
    "    'Age':23,\n",
    "    'Course':'Data Science'\n",
    "}\n",
    "collection.insert_one(data)\n",
    "data1={\n",
    "    'mail': 'vs.ndr.dev@gmail.com',\n",
    "    'Name':'Devendra Reddy',\n",
    "    'College': 'University of North Texas'\n",
    "}\n",
    "data2={\n",
    "    'Name':'Devendra Reddy',\n",
    "    'Semester':'Spring-2023',\n",
    "    'Subjects':['INFO-5505','INFO-5810','INFO-5737']\n",
    "}\n",
    "collection.insert_many([data1,data2])\n",
    "\n",
    "#Retreiving the data\n",
    "for i in collection.find():\n",
    "    print(i)"
   ]
  },
  {
   "cell_type": "code",
   "execution_count": 3,
   "id": "72598bf9",
   "metadata": {},
   "outputs": [
    {
     "data": {
      "text/plain": [
       "{'_id': ObjectId('63efde0d68a0b170891da43c'),\n",
       " 'Name': 'Devendra',\n",
       " 'ID': 11587327,\n",
       " 'Age': 23,\n",
       " 'Course': 'Data Science'}"
      ]
     },
     "execution_count": 3,
     "metadata": {},
     "output_type": "execute_result"
    }
   ],
   "source": [
    "collection.find_one()"
   ]
  },
  {
   "cell_type": "markdown",
   "id": "eb8e1a59",
   "metadata": {},
   "source": [
    "#### 5. Explain how you can use the find() method to query the MongoDB database. Write a simple code to demonstrate this."
   ]
  },
  {
   "cell_type": "markdown",
   "id": "ed49f907",
   "metadata": {},
   "source": [
    "In MongoDB, the find() method is used to query the database and retrieve documents from a specified collection. The find() method takes an optional query object as a parameter, which can be used to filter the results based on specific criteria.\n",
    "\n",
    "To use the find() method in MongoDB, you can follow these steps:\n",
    "\n",
    "Connect to the MongoDB server using a MongoDB driver such as PyMongo for Python.\n",
    "\n",
    "Specify the name of the database and the collection that you want to query.\n",
    "\n",
    "Call the find() method on the collection object and pass in the optional query object as a parameter.\n",
    "\n",
    "Iterate over the resulting cursor object to retrieve the documents that match the query."
   ]
  },
  {
   "cell_type": "code",
   "execution_count": 4,
   "id": "bd53e191",
   "metadata": {},
   "outputs": [
    {
     "name": "stdout",
     "output_type": "stream",
     "text": [
      "{'_id': ObjectId('63efde0d68a0b170891da43d'), 'mail': 'vs.ndr.dev@gmail.com', 'Name': 'Devendra Reddy', 'College': 'University of North Texas'}\n",
      "{'_id': ObjectId('63efde0d68a0b170891da43e'), 'Name': 'Devendra Reddy', 'Semester': 'Spring-2023', 'Subjects': ['INFO-5505', 'INFO-5810', 'INFO-5737']}\n"
     ]
    }
   ],
   "source": [
    "query = { \"Name\": \"Devendra Reddy\" }\n",
    "\n",
    "results = collection.find(query)\n",
    "\n",
    "for result in results:\n",
    "    print(result)\n"
   ]
  },
  {
   "cell_type": "markdown",
   "id": "5072f5ee",
   "metadata": {},
   "source": [
    "#### 6. Explain the sort() method. Give an example to demonstrate sorting in MongoDB."
   ]
  },
  {
   "cell_type": "markdown",
   "id": "e0ff8f03",
   "metadata": {},
   "source": [
    "In MongoDB, the sort() method is used to sort the results of a query in ascending or descending order based on one or more fields in the documents. The sort() method takes a sort object as a parameter, which specifies the field(s) to sort on and the sorting order.\n",
    "\n",
    "The sort object is a dictionary where the keys are the names of the fields to sort on, and the values are either 1 for ascending order or -1 for descending order. You can also sort on multiple fields by including multiple key-value pairs in the sort object.\n",
    "\n",
    "Here is an example code to demonstrate sorting in MongoDB using the sort() method:"
   ]
  },
  {
   "cell_type": "code",
   "execution_count": 5,
   "id": "6a510021",
   "metadata": {},
   "outputs": [
    {
     "name": "stdout",
     "output_type": "stream",
     "text": [
      "{'_id': ObjectId('63efde0d68a0b170891da43f'), 'ID': 1, 'Name': 'Devendra', 'Age': 23, 'Course': 'Data Science'}\n",
      "{'_id': ObjectId('63efde0d68a0b170891da440'), 'ID': 2, 'mail': 'vs.ndr.dev@gmail.com', 'Name': 'Devendra Reddy', 'College': 'University of North Texas'}\n",
      "{'_id': ObjectId('63efde0d68a0b170891da441'), 'ID': 3, 'Name': 'Devendra Reddy', 'Semester': 'Spring-2023', 'Subjects': ['INFO-5505', 'INFO-5810', 'INFO-5737']}\n"
     ]
    }
   ],
   "source": [
    "db = client[\"mydatabase\"]\n",
    "collection = db[\"mycollection\"]\n",
    "\n",
    "data1 = {\n",
    "    'ID': 1,\n",
    "    'Name': 'Devendra',\n",
    "    'Age': 23,\n",
    "    'Course': 'Data Science'\n",
    "}\n",
    "data2 = {\n",
    "    'ID': 2,\n",
    "    'mail': 'vs.ndr.dev@gmail.com',\n",
    "    'Name': 'Devendra Reddy',\n",
    "    'College': 'University of North Texas'\n",
    "}\n",
    "data3 = {\n",
    "    'ID': 3,\n",
    "    'Name': 'Devendra Reddy',\n",
    "    'Semester': 'Spring-2023',\n",
    "    'Subjects': ['INFO-5505', 'INFO-5810', 'INFO-5737']\n",
    "}\n",
    "\n",
    "collection.insert_many([data1, data2, data3])\n",
    "sort_obj = [('Name', 1)]\n",
    "\n",
    "for doc in collection.find().sort(sort_obj):\n",
    "    print(doc)"
   ]
  },
  {
   "cell_type": "markdown",
   "id": "0bda14e2",
   "metadata": {},
   "source": [
    "#### 7. Explain why delete_one(), delete_many(), and drop() is used."
   ]
  },
  {
   "cell_type": "markdown",
   "id": "49dba381",
   "metadata": {},
   "source": [
    "delete_one() and delete_many() are used in MongoDB to remove documents from a collection.\n",
    "\n",
    "delete_one() deletes the first document in the collection that matches the given filter. If multiple documents match the filter, only the first one encountered will be deleted.\n",
    "\n",
    "delete_many() is similar, but it deletes all documents in the collection that match the given filter.\n",
    "\n",
    "drop() is used to delete an entire collection from the database. This method removes all documents from the collection and also removes the collection itself from the database."
   ]
  },
  {
   "cell_type": "markdown",
   "id": "12153b48",
   "metadata": {},
   "source": [
    "## Done....."
   ]
  }
 ],
 "metadata": {
  "kernelspec": {
   "display_name": "Python 3 (ipykernel)",
   "language": "python",
   "name": "python3"
  },
  "language_info": {
   "codemirror_mode": {
    "name": "ipython",
    "version": 3
   },
   "file_extension": ".py",
   "mimetype": "text/x-python",
   "name": "python",
   "nbconvert_exporter": "python",
   "pygments_lexer": "ipython3",
   "version": "3.9.13"
  }
 },
 "nbformat": 4,
 "nbformat_minor": 5
}
