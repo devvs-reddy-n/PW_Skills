{
 "cells": [
  {
   "cell_type": "markdown",
   "id": "244ddac3-8535-4f6d-b113-8c4a83bb0508",
   "metadata": {},
   "source": [
    "# Assignment #2"
   ]
  },
  {
   "cell_type": "markdown",
   "id": "76dea79a",
   "metadata": {},
   "source": [
    "1. Use if statements to print grades"
   ]
  },
  {
   "cell_type": "code",
   "execution_count": 39,
   "id": "16ceb331-6739-4242-b4bd-59749bdd3e55",
   "metadata": {},
   "outputs": [
    {
     "name": "stdout",
     "output_type": "stream",
     "text": [
      "Enter percentage: 96\n",
      "Grade-A\n"
     ]
    }
   ],
   "source": [
    "n=int(input('Enter percentage: '))\n",
    "if n>90:\n",
    "      print('Grade-A')\n",
    "elif n>80 and n<=90:\n",
    "      print('Grade-B')\n",
    "elif n>=60 and n<=80:\n",
    "      print('Grade-C')\n",
    "else:\n",
    "      print('Grade-D')"
   ]
  },
  {
   "cell_type": "markdown",
   "id": "6db0073c",
   "metadata": {},
   "source": [
    "2. Use if statements to print road tax."
   ]
  },
  {
   "cell_type": "code",
   "execution_count": 14,
   "id": "fa6e9ede",
   "metadata": {},
   "outputs": [
    {
     "name": "stdout",
     "output_type": "stream",
     "text": [
      "Enter cost price of bike: 49000\n",
      "Road tax to be paid is 2450.0\n"
     ]
    }
   ],
   "source": [
    "n=int(input('Enter cost price of bike: '))\n",
    "print('Road tax to be paid is',end=' ')\n",
    "if n>100000:\n",
    "    print(0.15*n)\n",
    "elif n>50000 and n<=100000:\n",
    "    print(0.1*n)\n",
    "else:\n",
    "    print(0.05*n)"
   ]
  },
  {
   "cell_type": "markdown",
   "id": "2a070912",
   "metadata": {},
   "source": [
    "3. Use if statements to print monumnents of cities."
   ]
  },
  {
   "cell_type": "code",
   "execution_count": 19,
   "id": "38d231ef",
   "metadata": {},
   "outputs": [
    {
     "name": "stdout",
     "output_type": "stream",
     "text": [
      "Enter city: Chennai\n",
      "Monument: Not found\n"
     ]
    }
   ],
   "source": [
    "city=input('Enter city: ')\n",
    "print('Monument:',end=' ')\n",
    "if city=='Delhi':\n",
    "    print('Red Fort')\n",
    "elif city=='Agra':\n",
    "    print('Taj Mahal')\n",
    "elif city=='Jaipur':\n",
    "    print('Jal Mahal')\n",
    "else:\n",
    "    print('Not found')"
   ]
  },
  {
   "cell_type": "markdown",
   "id": "d77d4054",
   "metadata": {},
   "source": [
    "4. Check how many times a given number can be divided by 3 before it is less than or equal to 10."
   ]
  },
  {
   "cell_type": "code",
   "execution_count": 24,
   "id": "d21e86fc",
   "metadata": {},
   "outputs": [
    {
     "name": "stdout",
     "output_type": "stream",
     "text": [
      "729\n",
      "Count-4\n"
     ]
    }
   ],
   "source": [
    "n=int(input())\n",
    "count=0\n",
    "while n>10:\n",
    "    if n%3==0:\n",
    "        n/=3\n",
    "        count+=1\n",
    "    else:\n",
    "        break\n",
    "print('Count-{}'.format(count))"
   ]
  },
  {
   "cell_type": "markdown",
   "id": "22bd84d0",
   "metadata": {},
   "source": [
    "5. Why and When to Use while Loop in Python give a detailed description with example"
   ]
  },
  {
   "cell_type": "markdown",
   "id": "5ba03bcf",
   "metadata": {},
   "source": [
    "The while loop in Python is used when you want to repeatedly execute a block of code as long as a condition is met. The code inside the loop will keep executing until the condition is no longer true."
   ]
  },
  {
   "cell_type": "markdown",
   "id": "80928587",
   "metadata": {},
   "source": [
    "6. Use nested while loop to print 3 different patterns."
   ]
  },
  {
   "cell_type": "code",
   "execution_count": 26,
   "id": "d65c50ae",
   "metadata": {},
   "outputs": [
    {
     "name": "stdout",
     "output_type": "stream",
     "text": [
      "5\n",
      "* \n",
      "* * \n",
      "* * * \n",
      "* * * * \n",
      "* * * * * \n"
     ]
    }
   ],
   "source": [
    "n=int(input())\n",
    "for i in range(1,n+1):\n",
    "    for j in range(1,i+1):\n",
    "        print('*',end=' ')\n",
    "    print()"
   ]
  },
  {
   "cell_type": "code",
   "execution_count": 28,
   "id": "1613ac08",
   "metadata": {},
   "outputs": [
    {
     "name": "stdout",
     "output_type": "stream",
     "text": [
      "5\n",
      "* * * * * \n",
      "* * * * \n",
      "* * * \n",
      "* * \n",
      "* \n"
     ]
    }
   ],
   "source": [
    "n=int(input())\n",
    "for i in range(1,n+1):\n",
    "    for j in range(n,i-1,-1):\n",
    "        print('*',end=' ')\n",
    "    print()"
   ]
  },
  {
   "cell_type": "code",
   "execution_count": 35,
   "id": "f479133c",
   "metadata": {},
   "outputs": [
    {
     "name": "stdout",
     "output_type": "stream",
     "text": [
      "        * \n",
      "      * * * \n",
      "    * * * * * \n",
      "  * * * * * * * \n",
      "* * * * * * * * * \n"
     ]
    }
   ],
   "source": [
    "n = 5\n",
    "for i in range(1, n+1):\n",
    "    for j in range(n-i):\n",
    "        print(\" \", end=\" \")\n",
    "    for k in range(2*i-1):\n",
    "        print(\"*\", end=\" \")\n",
    "    print()"
   ]
  },
  {
   "cell_type": "markdown",
   "id": "f380d3bd",
   "metadata": {},
   "source": [
    "7. Reverse a while loop to display numbers from 10 to 1."
   ]
  },
  {
   "cell_type": "code",
   "execution_count": 36,
   "id": "928d0a97",
   "metadata": {},
   "outputs": [
    {
     "name": "stdout",
     "output_type": "stream",
     "text": [
      "10 9 8 7 6 5 4 3 2 1 "
     ]
    }
   ],
   "source": [
    "n=10\n",
    "while n!=0:\n",
    "    print(n,end=' ')\n",
    "    n-=1"
   ]
  },
  {
   "cell_type": "markdown",
   "id": "092ced60",
   "metadata": {},
   "source": [
    "8. Reverse a for loop to display numbers from 10 to 1."
   ]
  },
  {
   "cell_type": "code",
   "execution_count": 38,
   "id": "f2220f68",
   "metadata": {},
   "outputs": [
    {
     "name": "stdout",
     "output_type": "stream",
     "text": [
      "10 9 8 7 6 5 4 3 2 1 "
     ]
    }
   ],
   "source": [
    "for i in range(10,0,-1):\n",
    "    print(i,end=' ')"
   ]
  },
  {
   "cell_type": "markdown",
   "id": "7bc3ab35",
   "metadata": {},
   "source": [
    "# Done....."
   ]
  }
 ],
 "metadata": {
  "kernelspec": {
   "display_name": "Python 3 (ipykernel)",
   "language": "python",
   "name": "python3"
  },
  "language_info": {
   "codemirror_mode": {
    "name": "ipython",
    "version": 3
   },
   "file_extension": ".py",
   "mimetype": "text/x-python",
   "name": "python",
   "nbconvert_exporter": "python",
   "pygments_lexer": "ipython3",
   "version": "3.9.13"
  }
 },
 "nbformat": 4,
 "nbformat_minor": 5
}
