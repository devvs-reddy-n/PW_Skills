{
 "cells": [
  {
   "cell_type": "markdown",
   "id": "1f67fff2",
   "metadata": {},
   "source": [
    "## 16 Feb SQL Assignment"
   ]
  },
  {
   "cell_type": "markdown",
   "id": "5c45ab39",
   "metadata": {},
   "source": [
    "#### 1. What is a database? Differentiate between SQL and NoSQL databases.\n",
    "\n",
    "A database is a structured collection of data that is stored and organized in a manner that facilitates efficient retrieval and management of the data. It typically stores data in tables, which consist of rows and columns.\n",
    "\n",
    "SQL (Structured Query Language) databases are relational databases that use a structured approach to store data. The data is stored in tables that are related to each other through a common key. SQL databases are suitable for applications that require complex data queries and transactions, such as banking and finance.\n",
    "\n",
    "NoSQL (Not Only SQL) databases are non-relational databases that store data in a flexible and unstructured way. NoSQL databases are suitable for applications that require high scalability and performance, such as social media and gaming. Unlike SQL databases, NoSQL databases do not enforce strict data consistency and are not suitable for complex transactions."
   ]
  },
  {
   "cell_type": "markdown",
   "id": "c2034cdc",
   "metadata": {},
   "source": [
    "#### 2. What is DDL? Explain why CREATE, DROP, ALTER, and TRUNCATE are used with an example.\n",
    "\n",
    "DDL (Data Definition Language) is a set of SQL commands used to define and manipulate the structure of a database. The following are some common DDL commands and their uses:\n",
    "\n",
    "CREATE: used to create a new database object, such as a table, view, or index. For example, the following command creates a new table called \"employees\":\n",
    "\n",
    "CREATE TABLE employees (\n",
    "      id INT PRIMARY KEY,\n",
    "      name VARCHAR(50),\n",
    "      age INT,\n",
    "      salary DECIMAL(10,2)\n",
    "  );\n",
    "\n",
    "DROP: used to delete a database object, such as a table, view, or index. For example, the following command drops the \"employees\" table:\n",
    "\n",
    "DROP TABLE employees;\n",
    "\n",
    "ALTER: used to modify the structure of a database object. For example, the following command adds a new column called \"address\" to the \"employees\" table:\n",
    "\n",
    "ALTER TABLE employees ADD COLUMN address VARCHAR(100);\n",
    "\n",
    "TRUNCATE: used to remove all rows from a table. For example, the following command removes all rows from the \"employees\" table:\n",
    "\n",
    "TRUNCATE TABLE employees;"
   ]
  },
  {
   "cell_type": "markdown",
   "id": "33beb574",
   "metadata": {},
   "source": [
    "#### Q3. What is DML? Explain INSERT, UPDATE, and DELETE with an example.\n",
    "\n",
    "DML (Data Manipulation Language) is a set of SQL commands used to manipulate the data in a database. The following are some common DML commands and their uses:\n",
    "\n",
    "INSERT: used to add new rows to a table. For example, the following command adds a new employee to the \"employees\" table:\n",
    "\n",
    "INSERT INTO employees (id, name, age, salary, address)\n",
    "  VALUES (1, 'John Doe', 30, 5000.00, '123 Main St');\n",
    "  \n",
    "UPDATE: used to modify existing rows in a table. For example, the following command updates the salary of the employee with id 1:\n",
    "\n",
    "UPDATE employees SET salary = 6000.00 WHERE id = 1;\n",
    "\n",
    "DELETE: used to remove rows from a table. For example, the following command removes the employee with id 1:\n",
    "\n",
    "DELETE FROM employees WHERE id = 1;"
   ]
  },
  {
   "cell_type": "markdown",
   "id": "45159f07",
   "metadata": {},
   "source": [
    "#### 4. What is DQL? Explain SELECT with an example.\n",
    "\n",
    "DQL (Data Query Language) is a set of SQL commands used to retrieve data from a database. The most commonly used DQL command is SELECT, which is used to retrieve data from one or more tables. The SELECT command can be customized to filter, sort, and aggregate the data.\n",
    "\n",
    "For example, the following command retrieves the name and salary of all employees in the \"employees\" table:\n",
    " \n",
    " SELECT name, salary FROM employees;"
   ]
  },
  {
   "cell_type": "markdown",
   "id": "17f78131",
   "metadata": {},
   "source": [
    "#### 5. Explain Primary Key and Foreign Key.\n",
    "\n",
    "A primary key is a column or set of columns in a table that uniquely identifies each row in that table. It ensures that each record in the table is unique and can be easily accessed and modified. Primary keys are often used to establish relationships between tables and enforce data integrity.\n",
    "\n",
    "A foreign key is a column or set of columns in a table that references the primary key of another table. It establishes a relationship between two tables, allowing data to be joined and queried across tables. Foreign keys ensure that data remains consistent and accurate between related tables by enforcing referential integrity.\n",
    "\n",
    "For example, consider two tables: \"employees\" and \"departments\". The \"employees\" table may have a column called \"department_id\" that is a foreign key referencing the primary key of the \"departments\" table. This ensures that each employee record is associated with a valid department record. By joining the two tables using the foreign key, it is possible to query information about employees and their departments together."
   ]
  },
  {
   "cell_type": "markdown",
   "id": "d8fc63e3",
   "metadata": {},
   "source": [
    "#### 6. Write a python code to connect MySQL to python. Explain the cursor() and execute() method.\n",
    "\n",
    "To connect MySQL to Python, you can use the mysql-connector module. Here's an example code snippet:\n",
    "\n",
    "import mysql.connector\n",
    "\n",
    "connect to the database<br>\n",
    "mydb = mysql.connector.connect(<br>\n",
    "  host=\"localhost\",<br>\n",
    "  user=\"username\",<br>\n",
    "  password=\"password\",<br>\n",
    "  database=\"database_name\"<br>\n",
    ")\n",
    "\n",
    "create a cursor<br>\n",
    "mycursor = mydb.cursor()\n",
    "\n",
    "execute a query<br>\n",
    "mycursor.execute(\"SELECT * FROM table_name\")\n",
    "\n",
    "fetch the results<br>\n",
    "results = mycursor.fetchall()\n",
    "\n",
    "print the results<br>\n",
    "for result in results:<br>\n",
    "    print(result)\n",
    "\n",
    "close the connection<br>\n",
    "mydb.close()\n",
    "\n",
    "In the above code, we first connect to the MySQL database by providing the host, username, password, and database name. Then, we create a cursor using the cursor() method of the connection object. The cursor is used to execute queries and fetch results from the database.\n",
    "\n",
    "The execute() method of the cursor object is used to execute a query. It takes a string as its argument, which is the SQL query to be executed. The fetchall() method is used to fetch all the rows returned by the query. The fetchone() method can be used to fetch one row at a time.\n",
    "\n",
    "After we have fetched the results, we can perform any necessary operations on the data. Finally, we close the connection using the close() method of the connection object."
   ]
  },
  {
   "cell_type": "markdown",
   "id": "c0674d61",
   "metadata": {},
   "source": [
    "#### 7. Give the order of execution of SQL clauses in an SQL query.\n",
    "\n",
    "The order of execution of SQL clauses in a SQL query is as follows:\n",
    "\n",
    "FROM: The FROM clause specifies the table or tables from which data is to be retrieved.\n",
    "    \n",
    "WHERE: The WHERE clause specifies the conditions that must be met for a row to be included in the query result.\n",
    "    \n",
    "GROUP BY: The GROUP BY clause is used to group the result set by one or more columns.\n",
    "    \n",
    "HAVING: The HAVING clause is used to specify conditions that must be met by the groups defined in the GROUP BY clause.\n",
    "    \n",
    "SELECT: The SELECT clause is used to specify the columns to be retrieved from the table(s) specified in the FROM clause.\n",
    "    \n",
    "ORDER BY: The ORDER BY clause is used to sort the result set by one or more columns.\n",
    "    \n",
    "LIMIT: The LIMIT clause is used to limit the number of rows returned by the query.\n",
    "    \n",
    "It's important to note that not all clauses are required in a SQL query, and they may appear in a different order depending on the query's specific requirements."
   ]
  },
  {
   "cell_type": "markdown",
   "id": "870006c6",
   "metadata": {},
   "source": [
    "## Done....."
   ]
  }
 ],
 "metadata": {
  "kernelspec": {
   "display_name": "Python 3 (ipykernel)",
   "language": "python",
   "name": "python3"
  },
  "language_info": {
   "codemirror_mode": {
    "name": "ipython",
    "version": 3
   },
   "file_extension": ".py",
   "mimetype": "text/x-python",
   "name": "python",
   "nbconvert_exporter": "python",
   "pygments_lexer": "ipython3",
   "version": "3.9.13"
  }
 },
 "nbformat": 4,
 "nbformat_minor": 5
}
