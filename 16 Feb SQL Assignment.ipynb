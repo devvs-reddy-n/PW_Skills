{
 "cells": [
  {
   "cell_type": "markdown",
   "id": "76ff913b",
   "metadata": {},
   "source": [
    "## 16 Feb SQL Assignment"
   ]
  },
  {
   "cell_type": "markdown",
   "id": "a47b550e",
   "metadata": {},
   "source": [
    "#### 1. What is a database? Differentiate between SQL and NoSQL databases.\n",
    "\n",
    "A database is a structured collection of data that is stored and organized in a manner that facilitates efficient retrieval and management of the data. It typically stores data in tables, which consist of rows and columns.\n",
    "\n",
    "SQL (Structured Query Language) databases are relational databases that use a structured approach to store data. The data is stored in tables that are related to each other through a common key. SQL databases are suitable for applications that require complex data queries and transactions, such as banking and finance.\n",
    "\n",
    "NoSQL (Not Only SQL) databases are non-relational databases that store data in a flexible and unstructured way. NoSQL databases are suitable for applications that require high scalability and performance, such as social media and gaming. Unlike SQL databases, NoSQL databases do not enforce strict data consistency and are not suitable for complex transactions."
   ]
  },
  {
   "cell_type": "markdown",
   "id": "87c61610",
   "metadata": {},
   "source": [
    "#### 2. What is DDL? Explain why CREATE, DROP, ALTER, and TRUNCATE are used with an example.\n",
    "\n",
    "DDL (Data Definition Language) is a set of SQL commands used to define and manipulate the structure of a database. The following are some common DDL commands and their uses:\n",
    "\n",
    "CREATE: used to create a new database object, such as a table, view, or index. For example, the following command creates a new table called \"employees\":\n",
    "\n",
    "CREATE TABLE employees (\n",
    "      id INT PRIMARY KEY,\n",
    "      name VARCHAR(50),\n",
    "      age INT,\n",
    "      salary DECIMAL(10,2)\n",
    "  );\n",
    "\n",
    "DROP: used to delete a database object, such as a table, view, or index. For example, the following command drops the \"employees\" table:\n",
    "\n",
    "DROP TABLE employees;\n",
    "\n",
    "ALTER: used to modify the structure of a database object. For example, the following command adds a new column called \"address\" to the \"employees\" table:\n",
    "\n",
    "ALTER TABLE employees ADD COLUMN address VARCHAR(100);\n",
    "\n",
    "TRUNCATE: used to remove all rows from a table. For example, the following command removes all rows from the \"employees\" table:\n",
    "\n",
    "TRUNCATE TABLE employees;"
   ]
  },
  {
   "cell_type": "markdown",
   "id": "95259074",
   "metadata": {},
   "source": [
    "#### Q3. What is DML? Explain INSERT, UPDATE, and DELETE with an example.\n",
    "\n",
    "DML (Data Manipulation Language) is a set of SQL commands used to manipulate the data in a database. The following are some common DML commands and their uses:\n",
    "\n",
    "INSERT: used to add new rows to a table. For example, the following command adds a new employee to the \"employees\" table:\n",
    "\n",
    "INSERT INTO employees (id, name, age, salary, address)\n",
    "  VALUES (1, 'John Doe', 30, 5000.00, '123 Main St');\n",
    "  \n",
    "UPDATE: used to modify existing rows in a table. For example, the following command updates the salary of the employee with id 1:\n",
    "\n",
    "UPDATE employees SET salary = 6000.00 WHERE id = 1;\n",
    "\n",
    "DELETE: used to remove rows from a table. For example, the following command removes the employee with id 1:\n",
    "\n",
    "DELETE FROM employees WHERE id = 1;"
   ]
  },
  {
   "cell_type": "markdown",
   "id": "91d8c8af",
   "metadata": {},
   "source": [
    "#### 4. What is DQL? Explain SELECT with an example.\n",
    "\n",
    "DQL (Data Query Language) is a set of SQL commands used to retrieve data from a database. The most commonly used DQL command is SELECT, which is used to retrieve data from one or more tables. The SELECT command can be customized to filter, sort, and aggregate the data.\n",
    "\n",
    "For example, the following command retrieves the name and salary of all employees in the \"employees\" table:\n",
    " \n",
    " SELECT name, salary FROM employees;"
   ]
  },
  {
   "cell_type": "markdown",
   "id": "d9fdd99c",
   "metadata": {},
   "source": [
    "#### 5. Explain Primary Key and Foreign Key.\n",
    "\n",
    "A primary key is a column or set of columns in a table that uniquely identifies each row in that table. It ensures that each record in the table is unique and can be easily accessed and modified. Primary keys are often used to establish relationships between tables and enforce data integrity.\n",
    "\n",
    "A foreign key is a column or set of columns in a table that references the primary key of another table. It establishes a relationship between two tables, allowing data to be joined and queried across tables. Foreign keys ensure that data remains consistent and accurate between related tables by enforcing referential integrity.\n",
    "\n",
    "For example, consider two tables: \"employees\" and \"departments\". The \"employees\" table may have a column called \"department_id\" that is a foreign key referencing the primary key of the \"departments\" table. This ensures that each employee record is associated with a valid department record. By joining the two tables using the foreign key, it is possible to query information about employees and their departments together."
   ]
  },
  {
   "cell_type": "markdown",
   "id": "5de5ed82",
   "metadata": {},
   "source": [
    "## Done....."
   ]
  }
 ],
 "metadata": {
  "kernelspec": {
   "display_name": "Python 3 (ipykernel)",
   "language": "python",
   "name": "python3"
  },
  "language_info": {
   "codemirror_mode": {
    "name": "ipython",
    "version": 3
   },
   "file_extension": ".py",
   "mimetype": "text/x-python",
   "name": "python",
   "nbconvert_exporter": "python",
   "pygments_lexer": "ipython3",
   "version": "3.9.13"
  }
 },
 "nbformat": 4,
 "nbformat_minor": 5
}
