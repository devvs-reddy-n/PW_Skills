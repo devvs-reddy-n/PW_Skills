{
 "cells": [
  {
   "cell_type": "markdown",
   "id": "3741c1f7",
   "metadata": {},
   "source": [
    "## Python Task 2"
   ]
  },
  {
   "cell_type": "markdown",
   "id": "4142ba03",
   "metadata": {},
   "source": [
    "#### 1. You are writing code for a company. The requirement of the company is that you create a python function that will check whether the password entered by the user is correct or not. The function should take the password as input and return the string “Valid Password” if the entered password follows the below-given password guidelines else it should return “Invalid Password”.\n",
    "\n",
    "Note: \n",
    "1. The Password should contain at least two uppercase letters and at least two lowercase letters.<br>\n",
    "2. The Password should contain at least a number and three special characters.<br>\n",
    "3. The length of the password should be 10 characters long.<br>"
   ]
  },
  {
   "cell_type": "code",
   "execution_count": 1,
   "id": "a862a0c2",
   "metadata": {},
   "outputs": [
    {
     "name": "stdout",
     "output_type": "stream",
     "text": [
      "DEVENDRAreddy99@$$\n",
      "Valid password\n"
     ]
    }
   ],
   "source": [
    "def passwd_check(pwd):\n",
    "    uc=sum(i.isupper() for i in pwd)\n",
    "    lc=sum(i.islower() for i in pwd)\n",
    "    dg=sum(i.isdigit() for i in pwd)\n",
    "    sc=sum(not(i.isalnum()) for i in pwd)\n",
    "    if uc>=2 and lc>=2 and dg>=1 and sc>=3 and len(pwd)>=10:\n",
    "        return 'Valid password'\n",
    "    else:\n",
    "        return 'Not valid password'\n",
    "s=input()\n",
    "print(passwd_check(s))"
   ]
  },
  {
   "cell_type": "markdown",
   "id": "bb9e579c",
   "metadata": {},
   "source": [
    "#### 2. Solve the below-given questions using at least one of the following:\n",
    "1. Lambda function\n",
    "2. Filter function\n",
    "3. Map function\n",
    "4. List Comprehension"
   ]
  },
  {
   "cell_type": "markdown",
   "id": "82840efe",
   "metadata": {},
   "source": [
    "Check if the string starts with a particular letter."
   ]
  },
  {
   "cell_type": "code",
   "execution_count": 2,
   "id": "141d8b3d",
   "metadata": {},
   "outputs": [
    {
     "name": "stdout",
     "output_type": "stream",
     "text": [
      "Devendra\n"
     ]
    },
    {
     "data": {
      "text/plain": [
       "True"
      ]
     },
     "execution_count": 2,
     "metadata": {},
     "output_type": "execute_result"
    }
   ],
   "source": [
    "s=input()\n",
    "st_with=lambda s,l: s.startswith(l)\n",
    "st_with(s,'D')"
   ]
  },
  {
   "cell_type": "markdown",
   "id": "4ee88340",
   "metadata": {},
   "source": [
    "Check if the string is numeric."
   ]
  },
  {
   "cell_type": "code",
   "execution_count": 3,
   "id": "108d5d1e",
   "metadata": {},
   "outputs": [
    {
     "name": "stdout",
     "output_type": "stream",
     "text": [
      "22\n"
     ]
    },
    {
     "data": {
      "text/plain": [
       "True"
      ]
     },
     "execution_count": 3,
     "metadata": {},
     "output_type": "execute_result"
    }
   ],
   "source": [
    "s=input()\n",
    "is_num=lambda s: s.isnumeric()\n",
    "is_num(s)"
   ]
  },
  {
   "cell_type": "markdown",
   "id": "3349251a",
   "metadata": {},
   "source": [
    "Sort a list of tuples having fruit names and their quantity. [(\"mango\",99),(\"orange\",80), (\"grapes\", 1000)]"
   ]
  },
  {
   "cell_type": "code",
   "execution_count": 4,
   "id": "ad174d38",
   "metadata": {},
   "outputs": [
    {
     "data": {
      "text/plain": [
       "[('orange', 80), ('mango', 99), ('grapes', 1000)]"
      ]
     },
     "execution_count": 4,
     "metadata": {},
     "output_type": "execute_result"
    }
   ],
   "source": [
    "tup= [(\"mango\",99),(\"orange\",80), (\"grapes\", 1000)]\n",
    "sorted(tup,key=lambda x:x[1])"
   ]
  },
  {
   "cell_type": "markdown",
   "id": "087d98ab",
   "metadata": {},
   "source": [
    "Find the squares of numbers from 1 to 10"
   ]
  },
  {
   "cell_type": "code",
   "execution_count": 5,
   "id": "15cf1826",
   "metadata": {},
   "outputs": [
    {
     "data": {
      "text/plain": [
       "[1, 4, 9, 16, 25, 36, 49, 64, 81, 100]"
      ]
     },
     "execution_count": 5,
     "metadata": {},
     "output_type": "execute_result"
    }
   ],
   "source": [
    "l=[x**2 for x in range(1,11)]\n",
    "l"
   ]
  },
  {
   "cell_type": "markdown",
   "id": "c18b5909",
   "metadata": {},
   "source": [
    "Find the cube root of numbers from 1 to 10."
   ]
  },
  {
   "cell_type": "code",
   "execution_count": 6,
   "id": "6c0381b4",
   "metadata": {},
   "outputs": [
    {
     "data": {
      "text/plain": [
       "[1, 8, 27, 64, 125, 216, 343, 512, 729, 1000]"
      ]
     },
     "execution_count": 6,
     "metadata": {},
     "output_type": "execute_result"
    }
   ],
   "source": [
    "l=[x**3 for x in range(1,11)]\n",
    "l"
   ]
  },
  {
   "cell_type": "markdown",
   "id": "26c7094f",
   "metadata": {},
   "source": [
    "Check if a given number is even."
   ]
  },
  {
   "cell_type": "code",
   "execution_count": 7,
   "id": "869a5956",
   "metadata": {},
   "outputs": [
    {
     "data": {
      "text/plain": [
       "True"
      ]
     },
     "execution_count": 7,
     "metadata": {},
     "output_type": "execute_result"
    }
   ],
   "source": [
    "is_even=lambda x: x%2==0\n",
    "is_even(22)"
   ]
  },
  {
   "cell_type": "markdown",
   "id": "16363563",
   "metadata": {},
   "source": [
    "Filter odd numbers from the given list.\n",
    "[1,2,3,4,5,6,7,8,9,10]"
   ]
  },
  {
   "cell_type": "code",
   "execution_count": 8,
   "id": "ca56742a",
   "metadata": {},
   "outputs": [
    {
     "data": {
      "text/plain": [
       "[1, 3, 5, 7, 9]"
      ]
     },
     "execution_count": 8,
     "metadata": {},
     "output_type": "execute_result"
    }
   ],
   "source": [
    "lst=[1,2,3,4,5,6,7,8,9,10]\n",
    "list(filter(lambda x: x%2!=0, lst))"
   ]
  },
  {
   "cell_type": "markdown",
   "id": "607aadec",
   "metadata": {},
   "source": [
    "Sort a list of integers into positive and negative integers lists.\n",
    "[1,2,3,4,5,6,-1,-2,-3,-4,-5,0]"
   ]
  },
  {
   "cell_type": "code",
   "execution_count": 9,
   "id": "b33c774c",
   "metadata": {},
   "outputs": [],
   "source": [
    "num=[1,2,3,4,5,6,-1,-2,-3,-4,-5,0]\n",
    "positive_numbers = list(filter(lambda x: x > 0, num))\n",
    "negative_numbers = list(filter(lambda x: x < 0, num))\n",
    "positive_numbers.sort()\n",
    "negative_numbers.sort()"
   ]
  },
  {
   "cell_type": "code",
   "execution_count": 10,
   "id": "6a1ed9d8",
   "metadata": {},
   "outputs": [
    {
     "data": {
      "text/plain": [
       "[1, 2, 3, 4, 5, 6]"
      ]
     },
     "execution_count": 10,
     "metadata": {},
     "output_type": "execute_result"
    }
   ],
   "source": [
    "positive_numbers"
   ]
  },
  {
   "cell_type": "code",
   "execution_count": 11,
   "id": "651fe7b6",
   "metadata": {},
   "outputs": [
    {
     "data": {
      "text/plain": [
       "[-5, -4, -3, -2, -1]"
      ]
     },
     "execution_count": 11,
     "metadata": {},
     "output_type": "execute_result"
    }
   ],
   "source": [
    "negative_numbers"
   ]
  },
  {
   "cell_type": "markdown",
   "id": "ad125af4",
   "metadata": {},
   "source": [
    "## Done....."
   ]
  }
 ],
 "metadata": {
  "kernelspec": {
   "display_name": "Python 3 (ipykernel)",
   "language": "python",
   "name": "python3"
  },
  "language_info": {
   "codemirror_mode": {
    "name": "ipython",
    "version": 3
   },
   "file_extension": ".py",
   "mimetype": "text/x-python",
   "name": "python",
   "nbconvert_exporter": "python",
   "pygments_lexer": "ipython3",
   "version": "3.9.13"
  }
 },
 "nbformat": 4,
 "nbformat_minor": 5
}
