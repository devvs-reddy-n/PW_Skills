{
 "cells": [
  {
   "cell_type": "markdown",
   "id": "8d776ab5",
   "metadata": {},
   "source": [
    "# Assignment #4"
   ]
  },
  {
   "cell_type": "markdown",
   "id": "cad34601",
   "metadata": {},
   "source": [
    "#### 1. Which keyword is used to create a function? Create a function to return a list of odd numbers in the range of 1 to 25."
   ]
  },
  {
   "cell_type": "markdown",
   "id": "510737d7",
   "metadata": {},
   "source": [
    "A. 'def' keyword is used to create a function."
   ]
  },
  {
   "cell_type": "code",
   "execution_count": 1,
   "id": "f1a016a6",
   "metadata": {},
   "outputs": [
    {
     "data": {
      "text/plain": [
       "[1, 3, 5, 7, 9, 11, 13, 15, 17, 19, 21, 23, 25]"
      ]
     },
     "execution_count": 1,
     "metadata": {},
     "output_type": "execute_result"
    }
   ],
   "source": [
    "def odd_num():\n",
    "    l=list()\n",
    "    [l.append(i) for i in range(1,26,2)]\n",
    "    return l\n",
    "odd_num()"
   ]
  },
  {
   "cell_type": "markdown",
   "id": "22e9019e",
   "metadata": {},
   "source": [
    "#### 2. Why * args and  * *kwargs is used in some functions? Create a function each for *args and **kwargs to demonstrate their use."
   ]
  },
  {
   "cell_type": "markdown",
   "id": "d3ba8751",
   "metadata": {},
   "source": [
    "A. *args and * *kwargs are utilized in functions to allow for a variable number of arguments to be passed to the function. The *args syntax is used to pass any number of non-keyworded arguments, while * *kwargs is used to pass any number of keyworded arguments."
   ]
  },
  {
   "cell_type": "code",
   "execution_count": 2,
   "id": "087e5153",
   "metadata": {},
   "outputs": [
    {
     "data": {
      "text/plain": [
       "(1, 2, 3)"
      ]
     },
     "execution_count": 2,
     "metadata": {},
     "output_type": "execute_result"
    }
   ],
   "source": [
    "def func1(*args):\n",
    "    return args\n",
    "\n",
    "func1(1, 2, 3)"
   ]
  },
  {
   "cell_type": "code",
   "execution_count": 3,
   "id": "17bb71cb",
   "metadata": {},
   "outputs": [
    {
     "data": {
      "text/plain": [
       "{'a': 4, 'b': 5, 'c': 6}"
      ]
     },
     "execution_count": 3,
     "metadata": {},
     "output_type": "execute_result"
    }
   ],
   "source": [
    "def func2(**kwargs):\n",
    "    return kwargs\n",
    "\n",
    "func2(a=4,b=5,c=6)"
   ]
  },
  {
   "cell_type": "markdown",
   "id": "54918b37",
   "metadata": {},
   "source": [
    "#### 3. What is an iterator in python? Name the method used to initialise the iterator object and the method used for iteration. \n",
    "\n",
    "Use these methods to print the first five elements of the given list [2, 4, 6, 8, 10, 12, 14, 16, 18, 20]."
   ]
  },
  {
   "cell_type": "markdown",
   "id": "2a3a9efb",
   "metadata": {},
   "source": [
    "A. In Python, an iterator is an object that can be iterated over, meaning it can be looped through. This is made possible by the iterator protocol, which is a set of rules that include the methods __iter__() and __next__(). The __iter__() method returns the iterator object itself, and the __next__() method returns the next value in the sequence during each iteration."
   ]
  },
  {
   "cell_type": "code",
   "execution_count": 4,
   "id": "0d67937d",
   "metadata": {},
   "outputs": [
    {
     "name": "stdout",
     "output_type": "stream",
     "text": [
      "2 4 6 8 10 "
     ]
    }
   ],
   "source": [
    "numbers = [2, 4, 6, 8, 10, 12, 14, 16, 18, 20]\n",
    "\n",
    "num_iterator = iter(numbers)\n",
    "\n",
    "for i in range(5):\n",
    "    print(next(num_iterator),end=' ')"
   ]
  },
  {
   "cell_type": "markdown",
   "id": "929846ae",
   "metadata": {},
   "source": [
    "#### 4. What is a generator function in python? Why yield keyword is used? Give an example of a generator function."
   ]
  },
  {
   "cell_type": "markdown",
   "id": "24fbd016",
   "metadata": {},
   "source": [
    "A. A generator function in Python is a special kind of function that returns a generator iterator, which is an object that can be iterated over to produce a sequence of values. \n",
    "\n",
    "The yield keyword is used in a generator function instead of return to return a generator iterator, which can produce a sequence of values on the fly, rather than computing and returning the entire sequence at once."
   ]
  },
  {
   "cell_type": "code",
   "execution_count": 5,
   "id": "28011288",
   "metadata": {},
   "outputs": [
    {
     "name": "stdout",
     "output_type": "stream",
     "text": [
      "0 1 1 2 3 5 8 13 21 34 "
     ]
    }
   ],
   "source": [
    "def fib():\n",
    "    a,b = 0, 1\n",
    "    while True:\n",
    "        yield a\n",
    "        a,b = b,a+b\n",
    "\n",
    "fib = fib()\n",
    "\n",
    "for i in range(10):\n",
    "    print(next(fib),end=' ')"
   ]
  },
  {
   "cell_type": "markdown",
   "id": "52fdd15b",
   "metadata": {},
   "source": [
    "#### 5. Create a generator function for prime numbers less than 1000. Use the next() method to print the first 20 prime numbers."
   ]
  },
  {
   "cell_type": "code",
   "execution_count": 6,
   "id": "8cfcb64c",
   "metadata": {},
   "outputs": [
    {
     "name": "stdout",
     "output_type": "stream",
     "text": [
      "2 3 5 7 11 13 17 19 23 29 31 37 41 43 47 53 59 61 67 71 "
     ]
    }
   ],
   "source": [
    "def prime_numbers():\n",
    "    yield 2\n",
    "    primes = [2]\n",
    "    num = 3\n",
    "    while num < 1000:\n",
    "        for p in primes:\n",
    "            if num % p == 0:\n",
    "                break\n",
    "        else:\n",
    "            primes.append(num)\n",
    "            yield num\n",
    "        num += 2\n",
    "\n",
    "prime_gen = prime_numbers()\n",
    "\n",
    "for i in range(20):\n",
    "    print(next(prime_gen),end=' ')"
   ]
  },
  {
   "cell_type": "markdown",
   "id": "cbf28a9b",
   "metadata": {},
   "source": [
    "#### Done....."
   ]
  }
 ],
 "metadata": {
  "kernelspec": {
   "display_name": "Python 3 (ipykernel)",
   "language": "python",
   "name": "python3"
  },
  "language_info": {
   "codemirror_mode": {
    "name": "ipython",
    "version": 3
   },
   "file_extension": ".py",
   "mimetype": "text/x-python",
   "name": "python",
   "nbconvert_exporter": "python",
   "pygments_lexer": "ipython3",
   "version": "3.9.13"
  }
 },
 "nbformat": 4,
 "nbformat_minor": 5
}
