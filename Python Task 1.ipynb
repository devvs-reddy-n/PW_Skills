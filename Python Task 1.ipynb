{
 "cells": [
  {
   "cell_type": "markdown",
   "id": "a30ae26a",
   "metadata": {},
   "source": [
    "## Python Task 1"
   ]
  },
  {
   "cell_type": "markdown",
   "id": "1c845aa3",
   "metadata": {},
   "source": [
    "#### 1. Create a function which will take a list as an argument and return the product of all the numbers after creating a flat list. Use the below-given list as an argument for your function.\n",
    "\n",
    "list1 = [1,2,3,4, [44,55,66, True], False, (34,56,78,89,34), {1,2,3,3,2,1}, {1:34, \"key2\": [55, 67, 78, 89], 4: (45, 22, 61, 34)}, [56, 'data science'], 'Machine Learning']"
   ]
  },
  {
   "cell_type": "markdown",
   "id": "fd5e419e",
   "metadata": {},
   "source": [
    "Case-1: Not taking True as 1 and False as 0."
   ]
  },
  {
   "cell_type": "code",
   "execution_count": 1,
   "id": "a7a567c9",
   "metadata": {},
   "outputs": [
    {
     "name": "stdout",
     "output_type": "stream",
     "text": [
      "[1, 2, 3, 4, 44, 55, 66, 34, 56, 78, 89, 34, 1, 2, 3, 1, 4, 34, 55, 67, 78, 89, 45, 22, 61, 34, 56]\n"
     ]
    }
   ],
   "source": [
    "f=list()\n",
    "def return_flatten_lst(l):\n",
    "    for i in l:\n",
    "        if type(i)==int or type(i)==float:\n",
    "            f.append(i)\n",
    "        elif type(i)==list or type(i)==tuple:\n",
    "            return_flatten_lst(i)\n",
    "        elif type(i)==set:\n",
    "            return_flatten_lst(list(i))\n",
    "        elif type(i)==dict:\n",
    "                return_flatten_lst(list(i.keys()))\n",
    "                return_flatten_lst(list(i.values()))\n",
    "        else:\n",
    "            continue\n",
    "    \n",
    "list1 = [1,2,3,4, [44,55,66, True], False, (34,56,78,89,34), {1,2,3,3,2,1}, {1:34, \"key2\": [55, 67, 78, 89], 4: (45, 22, 61, 34)}, [56, 'data science'], 'Machine Learning']\n",
    "return_flatten_lst(list1)\n",
    "print(f)"
   ]
  },
  {
   "cell_type": "code",
   "execution_count": 2,
   "id": "1d9b609a",
   "metadata": {},
   "outputs": [
    {
     "data": {
      "text/plain": [
       "4134711838987085478833841242112000"
      ]
     },
     "execution_count": 2,
     "metadata": {},
     "output_type": "execute_result"
    }
   ],
   "source": [
    "from functools import reduce\n",
    "reduce(lambda x,y: x*y, f)"
   ]
  },
  {
   "cell_type": "markdown",
   "id": "31ef4fc2",
   "metadata": {},
   "source": [
    "Case-2: Taking True as 1 and False as F"
   ]
  },
  {
   "cell_type": "code",
   "execution_count": 3,
   "id": "7d18cd20",
   "metadata": {},
   "outputs": [
    {
     "name": "stdout",
     "output_type": "stream",
     "text": [
      "[1, 2, 3, 4, 44, 55, 66, True, False, 34, 56, 78, 89, 34, 1, 2, 3, 1, 4, 34, 55, 67, 78, 89, 45, 22, 61, 34, 56]\n"
     ]
    }
   ],
   "source": [
    "f=list()\n",
    "def return_flatten_lst(l):\n",
    "    for i in l:\n",
    "        if type(i)==int or type(i)==float or type(i)==bool:\n",
    "            f.append(i)\n",
    "        elif type(i)==list or type(i)==tuple:\n",
    "            return_flatten_lst(i)\n",
    "        elif type(i)==set:\n",
    "            return_flatten_lst(list(i))\n",
    "        elif type(i)==dict:\n",
    "                return_flatten_lst(list(i.keys()))\n",
    "                return_flatten_lst(list(i.values()))\n",
    "        else:\n",
    "            continue\n",
    "    \n",
    "list1 = [1,2,3,4, [44,55,66, True], False, (34,56,78,89,34), {1,2,3,3,2,1}, {1:34, \"key2\": [55, 67, 78, 89], 4: (45, 22, 61, 34)}, [56, 'data science'], 'Machine Learning']\n",
    "return_flatten_lst(list1)\n",
    "print(f)"
   ]
  },
  {
   "cell_type": "code",
   "execution_count": 4,
   "id": "cfe379ed",
   "metadata": {},
   "outputs": [
    {
     "data": {
      "text/plain": [
       "0"
      ]
     },
     "execution_count": 4,
     "metadata": {},
     "output_type": "execute_result"
    }
   ],
   "source": [
    "from functools import reduce\n",
    "reduce(lambda x,y: x*y, f)"
   ]
  },
  {
   "cell_type": "markdown",
   "id": "7dfbacd8",
   "metadata": {},
   "source": [
    "#### 2. Write a python program for encrypting a message sent to you by your friend. The logic of encryption should be such that, for a the output should be z. For b, the output should be y. For c, the output should be x respectively. Also, the whitespace should be replaced with a dollar sign. Keep the punctuation marks unchanged.\n",
    "\n",
    "Input Sentence: I want to become a Data Scientist.\n",
    "\n",
    "Encrypt the above input sentence using the program you just created.\n",
    "\n",
    "Note: Convert the given input sentence into lowercase before encrypting. The final output should be\n",
    "lowercase."
   ]
  },
  {
   "cell_type": "code",
   "execution_count": 5,
   "id": "5e371ed0",
   "metadata": {},
   "outputs": [
    {
     "name": "stdout",
     "output_type": "stream",
     "text": [
      "'I want to become a Data Scientist'\n",
      "'r$dzmg$gl$yvxlnv$z$wzgz$hxrvmgrhg'\n"
     ]
    }
   ],
   "source": [
    "s=list(input().lower())\n",
    "s1='abcdefghijklmnopqrstuvwxyz'\n",
    "s2=s1[::-1]+'$'\n",
    "s1+=' '\n",
    "for i in range(len(s)):\n",
    "    if s[i] in s1:\n",
    "        j=s1.index(s[i])\n",
    "        s[i]=s2[j]\n",
    "print(''.join(s))"
   ]
  },
  {
   "cell_type": "markdown",
   "id": "9f52ed26",
   "metadata": {},
   "source": [
    "## Done....."
   ]
  }
 ],
 "metadata": {
  "kernelspec": {
   "display_name": "Python 3 (ipykernel)",
   "language": "python",
   "name": "python3"
  },
  "language_info": {
   "codemirror_mode": {
    "name": "ipython",
    "version": 3
   },
   "file_extension": ".py",
   "mimetype": "text/x-python",
   "name": "python",
   "nbconvert_exporter": "python",
   "pygments_lexer": "ipython3",
   "version": "3.9.13"
  },
  "vscode": {
   "interpreter": {
    "hash": "31f2aee4e71d21fbe5cf8b01ff0e069b9275f58929596ceb00d14d90e3e16cd6"
   }
  }
 },
 "nbformat": 4,
 "nbformat_minor": 5
}
