{
 "cells": [
  {
   "cell_type": "markdown",
   "id": "8552d7af",
   "metadata": {},
   "source": [
    "## Assignment #6"
   ]
  },
  {
   "cell_type": "markdown",
   "id": "dc70ea83",
   "metadata": {},
   "source": [
    "#### 1. Explain Class and Object with respect to Object-Oriented Programming. Give a suitable example."
   ]
  },
  {
   "cell_type": "markdown",
   "id": "f19ad8d9",
   "metadata": {},
   "source": [
    "A class acts as a blueprint for creating objects and defines the data and behavior that objects of that type have. An object, on the other hand, is an instance of a class, created at runtime. It contains specific values stored in properties, and behaviors defined by methods."
   ]
  },
  {
   "cell_type": "code",
   "execution_count": 1,
   "id": "7851f90b",
   "metadata": {},
   "outputs": [
    {
     "name": "stdout",
     "output_type": "stream",
     "text": [
      "Data types:\n",
      "x: <class 'int'>\n",
      "y: <class 'float'>\n",
      "z: <class 'str'>\n"
     ]
    }
   ],
   "source": [
    "class Sample:\n",
    "    def __init__(self, x, y, z):\n",
    "        self.x = x\n",
    "        self.y = y\n",
    "        self.z = z\n",
    "        \n",
    "    def display_type(self):\n",
    "        print(\"Data types:\")\n",
    "        print(\"x:\", type(self.x))\n",
    "        print(\"y:\", type(self.y))\n",
    "        print(\"z:\", type(self.z))\n",
    "\n",
    "obj = Sample(1, 2.5, \"hello\")\n",
    "\n",
    "obj.display_type()"
   ]
  },
  {
   "cell_type": "markdown",
   "id": "084a7074",
   "metadata": {},
   "source": [
    "#### 2. Name the four pillars of OOPs."
   ]
  },
  {
   "cell_type": "markdown",
   "id": "ed0d7c24",
   "metadata": {},
   "source": [
    "The four pillars of Object-Oriented Programming (OOP) are:\n",
    "\n",
    "i. Abstraction: Hiding the complexity of the implementation and exposing only necessary information to the user.<br>\n",
    "ii. Encapsulation: Wrapping data and functions that operate on that data within a single unit or object.<br>\n",
    "iii. Inheritance: Creating new classes from existing ones, which inherits the properties and behaviors of the parent class.<br>\n",
    "iv. Polymorphism: Allowing objects to take on many forms, enabling them to be processed in a uniform manner, regardless of the type of data they contain.<br>"
   ]
  },
  {
   "cell_type": "markdown",
   "id": "1c2c6351",
   "metadata": {},
   "source": [
    "#### 3. Explain why the __init__() function is used. Give a suitable example."
   ]
  },
  {
   "cell_type": "markdown",
   "id": "86879f65",
   "metadata": {},
   "source": [
    "The '__init__' method is a special method in Python that is automatically called when an object of a class is created. It is commonly referred to as the constructor. The '__init__' method is used to initialize the attributes of an object when it is created.\n",
    "\n",
    "The '__init__' method takes the first argument self, which refers to the object being created. Additional arguments can be passed to the constructor to set the initial values of the object's attributes."
   ]
  },
  {
   "cell_type": "code",
   "execution_count": 2,
   "id": "48d4b817",
   "metadata": {},
   "outputs": [
    {
     "name": "stdout",
     "output_type": "stream",
     "text": [
      "Name: Devendra\n",
      "Age: 22\n"
     ]
    }
   ],
   "source": [
    "class Person:\n",
    "    def __init__(self, name, age):\n",
    "        self.name = name\n",
    "        self.age = age\n",
    "    \n",
    "    def display(self):\n",
    "        print(\"Name:\", self.name)\n",
    "        print(\"Age:\", self.age)\n",
    "\n",
    "person = Person(\"Devendra\", 22)\n",
    "\n",
    "person.display()"
   ]
  },
  {
   "cell_type": "markdown",
   "id": "fe092bb2",
   "metadata": {},
   "source": [
    "#### 4. Why self is used in OOPs?"
   ]
  },
  {
   "cell_type": "markdown",
   "id": "d75770ac",
   "metadata": {},
   "source": [
    "self is used in Object-Oriented Programming (OOP) to refer to the instance of the class being operated upon. In Python, it is a convention to use self as the first argument of a method in a class to refer to the instance of the class."
   ]
  },
  {
   "cell_type": "markdown",
   "id": "b0183771",
   "metadata": {},
   "source": [
    "#### 5. What is inheritance? Give an example for each type of inheritance."
   ]
  },
  {
   "cell_type": "markdown",
   "id": "043783aa",
   "metadata": {},
   "source": [
    "Inheritance is a fundamental concept in Object-Oriented Programming (OOP) that allows a new class to be created by inheriting properties and behaviors from an existing class. It enables code reusability and promotes modularity by allowing you to build upon existing classes and create new classes that are related to them."
   ]
  },
  {
   "cell_type": "markdown",
   "id": "87c26dcd",
   "metadata": {},
   "source": [
    "There are several types of inheritance in Python:\n",
    "\n",
    "Single Inheritance: A class that inherits properties and behaviors from a single parent class is called a single inheritance."
   ]
  },
  {
   "cell_type": "code",
   "execution_count": 3,
   "id": "105da568",
   "metadata": {},
   "outputs": [
    {
     "name": "stdout",
     "output_type": "stream",
     "text": [
      "Species: Dog\n",
      "Breed: Labrador\n"
     ]
    }
   ],
   "source": [
    "class Animal:\n",
    "    def __init__(self, name, species):\n",
    "        self.name = name\n",
    "        self.species = species\n",
    "    \n",
    "    def show_species(self):\n",
    "        print(\"Species:\", self.species)\n",
    "\n",
    "class Dog(Animal):\n",
    "    def __init__(self, name, breed):\n",
    "        Animal.__init__(self, name, species=\"Dog\")\n",
    "        self.breed = breed\n",
    "    \n",
    "    def show_breed(self):\n",
    "        print(\"Breed:\", self.breed)\n",
    "\n",
    "dog = Dog(\"Max\", \"Labrador\")\n",
    "dog.show_species()\n",
    "dog.show_breed()"
   ]
  },
  {
   "cell_type": "markdown",
   "id": "fdb79cbc",
   "metadata": {},
   "source": [
    "Multiple Inheritance: A class that inherits properties and behaviors from multiple parent classes is called multiple inheritance."
   ]
  },
  {
   "cell_type": "code",
   "execution_count": 4,
   "id": "ae5e4c80",
   "metadata": {},
   "outputs": [
    {
     "name": "stdout",
     "output_type": "stream",
     "text": [
      "Species: Dog\n",
      "Domestic: True\n",
      "Breed: Labrador\n"
     ]
    }
   ],
   "source": [
    "class Animal:\n",
    "    def __init__(self, name, species):\n",
    "        self.name = name\n",
    "        self.species = species\n",
    "    \n",
    "    def show_species(self):\n",
    "        print(\"Species:\", self.species)\n",
    "\n",
    "class Domestic:\n",
    "    def __init__(self, is_domestic):\n",
    "        self.is_domestic = is_domestic\n",
    "    \n",
    "    def show_domestic(self):\n",
    "        print(\"Domestic:\", self.is_domestic)\n",
    "\n",
    "class Dog(Animal, Domestic):\n",
    "    def __init__(self, name, breed):\n",
    "        Animal.__init__(self, name, species=\"Dog\")\n",
    "        Domestic.__init__(self, is_domestic=True)\n",
    "        self.breed = breed\n",
    "    \n",
    "    def show_breed(self):\n",
    "        print(\"Breed:\", self.breed)\n",
    "\n",
    "dog = Dog(\"Max\", \"Labrador\")\n",
    "dog.show_species()\n",
    "dog.show_domestic()\n",
    "dog.show_breed()"
   ]
  },
  {
   "cell_type": "markdown",
   "id": "5dc56da2",
   "metadata": {},
   "source": [
    "Hierarchical Inheritance: When one class is inherited by multiple subclasses, it is called hierarchical inheritance."
   ]
  },
  {
   "cell_type": "code",
   "execution_count": 5,
   "id": "266ad21d",
   "metadata": {},
   "outputs": [
    {
     "name": "stdout",
     "output_type": "stream",
     "text": [
      "Species: Dog\n",
      "Breed: Golden Retriever\n",
      "Origin: Scotland\n"
     ]
    }
   ],
   "source": [
    "class Animal:\n",
    "    def __init__(self, name, species):\n",
    "        self.name = name\n",
    "        self.species = species\n",
    "    \n",
    "    def show_species(self):\n",
    "        print(\"Species:\", self.species)\n",
    "\n",
    "class Dog(Animal):\n",
    "    def __init__(self, name, breed):\n",
    "        Animal.__init__(self, name, species=\"Dog\")\n",
    "        self.breed = breed\n",
    "    \n",
    "    def show_breed(self):\n",
    "        print(\"Breed:\", self.breed)\n",
    "\n",
    "class GoldenRetriever(Dog):\n",
    "    def __init__(self, name, breed, origin):\n",
    "        Dog.__init__(self, name, breed=\"Golden Retriever\")\n",
    "        self.origin = origin\n",
    "    \n",
    "    def show_origin(self):\n",
    "        print(\"Origin:\", self.origin)\n",
    "\n",
    "golden_retriever = GoldenRetriever(\"Buddy\", \"Golden Retriever\", \"Scotland\")\n",
    "golden_retriever.show_species()\n",
    "golden_retriever.show_breed()\n",
    "golden_retriever.show_origin()"
   ]
  },
  {
   "cell_type": "markdown",
   "id": "377f2f3d",
   "metadata": {},
   "source": [
    "Hybrid Inheritance: It is a combination of two or more types of inheritance."
   ]
  },
  {
   "cell_type": "code",
   "execution_count": 6,
   "id": "1fa07211",
   "metadata": {},
   "outputs": [
    {
     "name": "stdout",
     "output_type": "stream",
     "text": [
      "Species: Dog\n",
      "Domestic: True\n",
      "Breed: Golden Retriever\n",
      "Origin: Scotland\n"
     ]
    }
   ],
   "source": [
    "class Animal:\n",
    "    def __init__(self, name, species):\n",
    "        self.name = name\n",
    "        self.species = species\n",
    "    \n",
    "    def show_species(self):\n",
    "        print(\"Species:\", self.species)\n",
    "\n",
    "class Domestic:\n",
    "    def __init__(self, is_domestic):\n",
    "        self.is_domestic = is_domestic\n",
    "    \n",
    "    def show_domestic(self):\n",
    "        print(\"Domestic:\", self.is_domestic)\n",
    "\n",
    "class Dog(Animal, Domestic):\n",
    "    def __init__(self, name, breed):\n",
    "        Animal.__init__(self, name, species=\"Dog\")\n",
    "        Domestic.__init__(self, is_domestic=True)\n",
    "        self.breed = breed\n",
    "    \n",
    "    def show_breed(self):\n",
    "        print(\"Breed:\", self.breed)\n",
    "\n",
    "class GoldenRetriever(Dog):\n",
    "    def __init__(self, name, origin):\n",
    "        Dog.__init__(self, name, breed=\"Golden Retriever\")\n",
    "        self.origin = origin\n",
    "    \n",
    "    def show_origin(self):\n",
    "        print(\"Origin:\", self.origin)\n",
    "\n",
    "golden_retriever = GoldenRetriever(\"Buddy\", \"Scotland\")\n",
    "golden_retriever.show_species()\n",
    "golden_retriever.show_domestic()\n",
    "golden_retriever.show_breed()\n",
    "golden_retriever.show_origin()"
   ]
  },
  {
   "cell_type": "markdown",
   "id": "4871411e",
   "metadata": {},
   "source": [
    "## Done....."
   ]
  }
 ],
 "metadata": {
  "kernelspec": {
   "display_name": "Python 3 (ipykernel)",
   "language": "python",
   "name": "python3"
  },
  "language_info": {
   "codemirror_mode": {
    "name": "ipython",
    "version": 3
   },
   "file_extension": ".py",
   "mimetype": "text/x-python",
   "name": "python",
   "nbconvert_exporter": "python",
   "pygments_lexer": "ipython3",
   "version": "3.9.13"
  }
 },
 "nbformat": 4,
 "nbformat_minor": 5
}
