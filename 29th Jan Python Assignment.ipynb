{
 "cells": [
  {
   "cell_type": "markdown",
   "id": "cf326589",
   "metadata": {},
   "source": [
    "# Assignment #1"
   ]
  },
  {
   "cell_type": "markdown",
   "id": "779ad68a",
   "metadata": {},
   "source": [
    "1. Who developed Python Programming Language?<br>\n",
    "A. Guido van Rossum"
   ]
  },
  {
   "cell_type": "markdown",
   "id": "e37f33be",
   "metadata": {},
   "source": [
    "2. Which type of Programming does Python support?<br>\n",
    "A. Python provides support for four main programming styles: imperative programming, functional programming, procedural programming, and object-oriented programming."
   ]
  },
  {
   "cell_type": "markdown",
   "id": "d0885b09",
   "metadata": {},
   "source": [
    "3. Is Python case sensitive when dealing with identifiers?<br>\n",
    "A. Yes"
   ]
  },
  {
   "cell_type": "markdown",
   "id": "97c25602",
   "metadata": {},
   "source": [
    "4. What is the correct extension of the Python file?<br>\n",
    "A. The correct extension for Python file is .py"
   ]
  },
  {
   "cell_type": "markdown",
   "id": "f18970a3",
   "metadata": {},
   "source": [
    "5. Is Python code compiled or interpreted?<br>\n",
    "A. Python code is interpreted."
   ]
  },
  {
   "cell_type": "markdown",
   "id": "24666eea",
   "metadata": {},
   "source": [
    "6. Name a few blocks of code used to define in Python language?<br>\n",
    "A. A few blocks of code used to define in Python language are functions, loops and if-else statements. To tell Python the function is a block of code, specify a colon in front of the function name"
   ]
  },
  {
   "cell_type": "markdown",
   "id": "49e673de",
   "metadata": {},
   "source": [
    "7. State a character used to give single-line comments in Python?<br>\n",
    "A. A single-line comment in Python is indicated by a hash symbol (#)."
   ]
  },
  {
   "cell_type": "markdown",
   "id": "037f1882",
   "metadata": {},
   "source": [
    "8. Mention functions which can help us to find the version of python that we are currently working on?<br>\n",
    "A. To get the Version of the python Interpreter, they are listed as follows,<br>\n",
    "-> Using sys.version method.<br>"
   ]
  },
  {
   "cell_type": "code",
   "execution_count": 12,
   "id": "096f7b92",
   "metadata": {},
   "outputs": [
    {
     "name": "stdout",
     "output_type": "stream",
     "text": [
      "3.9.13 (main, Aug 25 2022, 18:24:45) \n",
      "[Clang 12.0.0 ]\n"
     ]
    }
   ],
   "source": [
    "import sys\n",
    "print(sys.version)"
   ]
  },
  {
   "cell_type": "markdown",
   "id": "ec3cdfb8",
   "metadata": {},
   "source": [
    "-> Using platform.python_version() method."
   ]
  },
  {
   "cell_type": "code",
   "execution_count": 13,
   "id": "bc8f175a",
   "metadata": {},
   "outputs": [
    {
     "name": "stdout",
     "output_type": "stream",
     "text": [
      "3.9.13\n"
     ]
    }
   ],
   "source": [
    "import platform\n",
    "print(platform.python_version())"
   ]
  },
  {
   "cell_type": "markdown",
   "id": "e1deec4b",
   "metadata": {},
   "source": [
    "9. Python supports the creation of anonymous functions at runtime, using a construct called<br>\n",
    "A. lambda function"
   ]
  },
  {
   "cell_type": "markdown",
   "id": "13af08c8",
   "metadata": {},
   "source": [
    "10. What does pip stand for python?<br>\n",
    "A. Pip is a recursive acronym that can stand for either \"Pip Installs Packages\" or \"Pip Installs Python\". Alternatively, pip stands for \"preferred installer program\"."
   ]
  },
  {
   "cell_type": "markdown",
   "id": "58687ce9",
   "metadata": {},
   "source": [
    "11. Mention a few built-in functions in python?<br>\n",
    "A. Few built-in functions in python are print(), len(), str(), int(), and type()."
   ]
  },
  {
   "cell_type": "markdown",
   "id": "4b20d98b",
   "metadata": {},
   "source": [
    "12. What is the maximum possible length of an identifier in Python?<br>\n",
    "A. 79 characters"
   ]
  },
  {
   "cell_type": "markdown",
   "id": "c15d52f6",
   "metadata": {},
   "source": [
    "13. What are the benefits of using Python?<br>\n",
    "A. The benefits of using Python include its simplicity and readability, a large library of pre-built functions and modules, support for multiple programming paradigms, and its ability to handle multiple tasks."
   ]
  },
  {
   "cell_type": "markdown",
   "id": "04fba06d",
   "metadata": {},
   "source": [
    "14. How is memory managed in Python explain?<br>\n",
    "A. Memory management in Python involves a private heap containing all Python objects and data structures. The management of this private heap is ensured internally by the Python memory manager."
   ]
  },
  {
   "cell_type": "markdown",
   "id": "337310d6",
   "metadata": {},
   "source": [
    "15. How to install Python on Windows and set path variables?<br>\n",
    "A. To install Python on Windows, download the latest version from the official website and run the setup file. After downloading, copy the location of python.exe file and open environmental variables and add the location to path."
   ]
  },
  {
   "cell_type": "markdown",
   "id": "649c9662",
   "metadata": {},
   "source": [
    "16. Is indentation required in python?<br>\n",
    "A. Yes, indentation is required in Python as it is used to define blocks of code such as loops and functions."
   ]
  },
  {
   "cell_type": "markdown",
   "id": "a800a009",
   "metadata": {},
   "source": [
    "# Done..."
   ]
  }
 ],
 "metadata": {
  "kernelspec": {
   "display_name": "Python 3 (ipykernel)",
   "language": "python",
   "name": "python3"
  },
  "language_info": {
   "codemirror_mode": {
    "name": "ipython",
    "version": 3
   },
   "file_extension": ".py",
   "mimetype": "text/x-python",
   "name": "python",
   "nbconvert_exporter": "python",
   "pygments_lexer": "ipython3",
   "version": "3.9.13"
  }
 },
 "nbformat": 4,
 "nbformat_minor": 5
}
