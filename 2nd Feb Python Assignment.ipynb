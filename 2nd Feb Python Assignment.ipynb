{
 "cells": [
  {
   "cell_type": "markdown",
   "id": "628f503e",
   "metadata": {},
   "source": [
    "# Assignment #3"
   ]
  },
  {
   "cell_type": "markdown",
   "id": "ca832e46",
   "metadata": {},
   "source": [
    "### 1. What are the characteristics of the tuples? Is tuple immutable?"
   ]
  },
  {
   "cell_type": "markdown",
   "id": "d8761294",
   "metadata": {},
   "source": [
    "The characteristics of tuples in programming are:<br>\n",
    "They are ordered, meaning each element in a tuple has a specific position. <br>\n",
    "They are immutable, meaning their elements cannot be changed once the tuple is created. <br>\n",
    "They can contain elements of different data types, such as integers, strings, and other objects. <br>\n",
    "They can be used as keys in dictionaries, because they are hashable (if their elements are hashable). <br>"
   ]
  },
  {
   "cell_type": "markdown",
   "id": "ff00d937",
   "metadata": {},
   "source": [
    "### 2. What are the two tuple methods in python? Give an example of each method. Give a reason why tuples have only two in-built methods as compared to Lists."
   ]
  },
  {
   "cell_type": "markdown",
   "id": "4d275db9",
   "metadata": {},
   "source": [
    "The two built-in methods for tuples in Python are:<br>\n",
    "\n",
    "count: This method returns the number of times a specific element appears in the tuple."
   ]
  },
  {
   "cell_type": "code",
   "execution_count": 1,
   "id": "aebfb35e",
   "metadata": {},
   "outputs": [
    {
     "data": {
      "text/plain": [
       "2"
      ]
     },
     "execution_count": 1,
     "metadata": {},
     "output_type": "execute_result"
    }
   ],
   "source": [
    "t = (1, 2, 3, 2)\n",
    "t.count(2)"
   ]
  },
  {
   "cell_type": "markdown",
   "id": "a39e9628",
   "metadata": {},
   "source": [
    "index: This method returns the index of the first occurrence of a specific element in the tuple."
   ]
  },
  {
   "cell_type": "code",
   "execution_count": 2,
   "id": "11ac6f81",
   "metadata": {},
   "outputs": [
    {
     "data": {
      "text/plain": [
       "1"
      ]
     },
     "execution_count": 2,
     "metadata": {},
     "output_type": "execute_result"
    }
   ],
   "source": [
    "t = (1, 2, 3, 2)\n",
    "t.index(2)"
   ]
  },
  {
   "cell_type": "markdown",
   "id": "8f5ec302",
   "metadata": {},
   "source": [
    "Tuples have only two built-in methods as compared to lists because tuples are meant to be immutable and used as lightweight data structures to represent a single set of elements. Lists, on the other hand, are meant to be more flexible and have more built-in methods for adding, removing, and manipulating elements. The limited number of built-in methods for tuples reflects their intended use as simple and efficient data structures."
   ]
  },
  {
   "cell_type": "markdown",
   "id": "2858d1e1",
   "metadata": {},
   "source": [
    "### 3. Which collection datatypes in python do not allow duplicate items? Write a code using a set to remove duplicates from the given list.<br> \n",
    "\n",
    "List = [1, 1, 1, 2, 1, 3, 1, 4, 2, 1, 2, 2, 2, 3, 2, 4, 3, 1, 3, 2, 3, 3, 3, 4, 4, 1, 4, 2, 4, 3, 4, 4]"
   ]
  },
  {
   "cell_type": "markdown",
   "id": "9d72a0cd",
   "metadata": {},
   "source": [
    "Sets do not allow duplicate elements."
   ]
  },
  {
   "cell_type": "code",
   "execution_count": 3,
   "id": "0dbdc6b4",
   "metadata": {},
   "outputs": [
    {
     "data": {
      "text/plain": [
       "{1, 2, 3, 4}"
      ]
     },
     "execution_count": 3,
     "metadata": {},
     "output_type": "execute_result"
    }
   ],
   "source": [
    "List = [1, 1, 1, 2, 1, 3, 1, 4, 2, 1, 2, 2, 2, 3, 2, 4, 3, 1, 3, 2, 3, 3, 3, 4, 4, 1, 4, 2, 4, 3, 4, 4]\n",
    "set(List)"
   ]
  },
  {
   "cell_type": "markdown",
   "id": "8ed28fd9",
   "metadata": {},
   "source": [
    "### 4. Explain the difference between the union() and update() methods for a set. Give an example of each method."
   ]
  },
  {
   "cell_type": "markdown",
   "id": "7f83ea37",
   "metadata": {},
   "source": [
    "The union and update methods in Python are used for set operations. The difference between these two methods is as follows:\n",
    "\n",
    "Union: This method returns a new set that contains all elements from both sets. It does not modify the original sets."
   ]
  },
  {
   "cell_type": "code",
   "execution_count": 4,
   "id": "ad63f621",
   "metadata": {},
   "outputs": [
    {
     "name": "stdout",
     "output_type": "stream",
     "text": [
      "{1, 2, 3, 4, 5}\n"
     ]
    }
   ],
   "source": [
    "set1 = {1, 2, 3}\n",
    "set2 = {3, 4, 5}\n",
    "set3 = set1.union(set2)\n",
    "print(set3)"
   ]
  },
  {
   "cell_type": "markdown",
   "id": "f1c434f1",
   "metadata": {},
   "source": [
    "Update: This method return elements of another set added to it."
   ]
  },
  {
   "cell_type": "code",
   "execution_count": 5,
   "id": "6f26896e",
   "metadata": {},
   "outputs": [
    {
     "name": "stdout",
     "output_type": "stream",
     "text": [
      "{1, 2, 3, 4}\n"
     ]
    }
   ],
   "source": [
    "set1 = {1, 2, 3}\n",
    "set2 = {4}\n",
    "set1.update(set2)\n",
    "print(set1)"
   ]
  },
  {
   "cell_type": "markdown",
   "id": "d0031540",
   "metadata": {},
   "source": [
    "### 5. What is a dictionary? Give an example. Also, state whether a dictionary is ordered or unordered."
   ]
  },
  {
   "cell_type": "markdown",
   "id": "393b43f5",
   "metadata": {},
   "source": [
    "A dictionary in Python is a collection of key-value pairs, where each key is unique and used to access its corresponding value. Dictionaries are commonly used for fast lookups, data manipulation, and organization."
   ]
  },
  {
   "cell_type": "code",
   "execution_count": 6,
   "id": "8774a03e",
   "metadata": {},
   "outputs": [
    {
     "name": "stdout",
     "output_type": "stream",
     "text": [
      "Dev\n"
     ]
    }
   ],
   "source": [
    "Dict = {'name': 'Dev', 'age': 22, 'city': 'Denton'}\n",
    "print(Dict['name'])"
   ]
  },
  {
   "cell_type": "markdown",
   "id": "bb2720b1",
   "metadata": {},
   "source": [
    "Dictionaries are unordered in Python, meaning that their elements are not stored in a specific order. The order of the elements in a dictionary may change when elements are added or removed, and there is no guarantee that the order will be maintained. However, starting from Python 3.7, dictionaries are guaranteed to be ordered by default."
   ]
  },
  {
   "cell_type": "markdown",
   "id": "610d6ef1",
   "metadata": {},
   "source": [
    "### 6. Can we create a nested dictionary? If so, please give an example by creating a simple one-level nested dictionary."
   ]
  },
  {
   "cell_type": "markdown",
   "id": "77220a11",
   "metadata": {},
   "source": [
    "Yes, we can create a nested dictionary in Python. A nested dictionary is a dictionary inside another dictionary."
   ]
  },
  {
   "cell_type": "code",
   "execution_count": 7,
   "id": "a43171e2",
   "metadata": {},
   "outputs": [
    {
     "name": "stdout",
     "output_type": "stream",
     "text": [
      "{'name': 'Dev', 'age': 22, 'city': 'Denton'}\n"
     ]
    }
   ],
   "source": [
    "nested_dict = {\n",
    "     'person1': {'name': 'Dev', 'age': 22, 'city': 'Denton'},\n",
    "    'person2': {'name': 'Narendra', 'age': 21, 'city': 'Denton'} }\n",
    "print(nested_dict['person1'])"
   ]
  },
  {
   "cell_type": "markdown",
   "id": "842025ad",
   "metadata": {},
   "source": [
    "### 7. Using setdefault() method, create key named topics in the given dictionary and also add the value of the key as this list,\n",
    "\n",
    "['Python', 'Machine Learning’, 'Deep Learning']<br>\n",
    "dict1 = {'language' : 'Python', 'course': 'Data Science Masters'}"
   ]
  },
  {
   "cell_type": "code",
   "execution_count": 8,
   "id": "13f6d6c8",
   "metadata": {},
   "outputs": [
    {
     "name": "stdout",
     "output_type": "stream",
     "text": [
      "{'language': 'Python', 'course': 'Data Science Masters', 'topics': ['Python', 'Machine Learning', 'Deep Learning']}\n"
     ]
    }
   ],
   "source": [
    "dict1 = {'language' : 'Python', 'course': 'Data Science Masters'}\n",
    "dict1.setdefault('topics', ['Python', 'Machine Learning', 'Deep Learning'])\n",
    "print(dict1)"
   ]
  },
  {
   "cell_type": "markdown",
   "id": "ad8f70b0",
   "metadata": {},
   "source": [
    "### 8. What are the three view objects in dictionaries? Use the three in-built methods in python to display these three view objects for the given dictionary.\n",
    "dict1 = {'Sport': 'Cricket' , 'Teams': ['India', 'Australia', 'England', 'South Africa', 'Sri Lanka', 'New Zealand']}"
   ]
  },
  {
   "cell_type": "markdown",
   "id": "f464ea14",
   "metadata": {},
   "source": [
    "There are three view objects in dictionaries in Python: keys view, values view, and items view. These view objects are dynamic views of the dictionary's entries, which means that the views reflect changes to the dictionary automatically."
   ]
  },
  {
   "cell_type": "code",
   "execution_count": 9,
   "id": "e3abc1ba",
   "metadata": {},
   "outputs": [
    {
     "name": "stdout",
     "output_type": "stream",
     "text": [
      "dict_keys(['Sport', 'Teams'])\n",
      "\n",
      " dict_values(['Cricket', ['India', 'Australia', 'England', 'South Africa', 'Sri Lanka', 'New Zealand']])\n",
      "\n",
      " dict_items([('Sport', 'Cricket'), ('Teams', ['India', 'Australia', 'England', 'South Africa', 'Sri Lanka', 'New Zealand'])])\n"
     ]
    }
   ],
   "source": [
    "dict1 = {'Sport': 'Cricket' , 'Teams': ['India', 'Australia', 'England', 'South Africa', 'Sri Lanka', 'New Zealand']}\n",
    "keys_view = dict1.keys()\n",
    "print(keys_view)\n",
    "\n",
    "values_view = dict1.values()\n",
    "print('\\n',values_view)\n",
    "\n",
    "items_view = dict1.items()\n",
    "print('\\n',items_view)"
   ]
  },
  {
   "cell_type": "markdown",
   "id": "68274d2f",
   "metadata": {},
   "source": [
    "# Done....."
   ]
  }
 ],
 "metadata": {
  "kernelspec": {
   "display_name": "Python 3 (ipykernel)",
   "language": "python",
   "name": "python3"
  },
  "language_info": {
   "codemirror_mode": {
    "name": "ipython",
    "version": 3
   },
   "file_extension": ".py",
   "mimetype": "text/x-python",
   "name": "python",
   "nbconvert_exporter": "python",
   "pygments_lexer": "ipython3",
   "version": "3.9.13"
  }
 },
 "nbformat": 4,
 "nbformat_minor": 5
}
